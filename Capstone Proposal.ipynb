{
 "cells": [
  {
   "cell_type": "markdown",
   "metadata": {},
   "source": [
    "# Machine Learning Engineer Nanodegree\n",
    "\n",
    "# New York City Taxi Trip Duration\n",
    "\n",
    "## Capstone Proposal\n",
    "Cora Santos \n",
    "June 23st, 2019"
   ]
  },
  {
   "cell_type": "markdown",
   "metadata": {},
   "source": [
    "# Domain Background\n",
    "\n",
    "The chosen project for the Capstone Project is the [New York City Taxi Duration Trip] competition from [Kaggle].\n",
    "The challenge is to build a model that predicts the total ride duration of taxi trips in New York City.\n",
    "\n",
    "\n",
    "[New York City Taxi Duration Trip]: https://www.kaggle.com/c/nyc-taxi-trip-duration\n",
    "[Kaggle]: https://en.wikipedia.org/wiki/Kaggle"
   ]
  },
  {
   "cell_type": "markdown",
   "metadata": {},
   "source": [
    "### 2. Problem Statement\n",
    "\n",
    "By considering historical information such as pick up and drop off date, hour and geo-localization, and trip duration regarding taxi trips, the objective is to predict the duration of each taxi trip given in a specific test set, which does not present neither drop off time, nor trip duration. The prediction will be performed through a supervised learning regressor to be defined given the data structure."
   ]
  },
  {
   "cell_type": "markdown",
   "metadata": {},
   "source": [
    "### 3. Datasets and Inputs\n",
    "\n",
    "The challenge provides two [data sets].\n",
    "* train.csv - the training set, which contains 1.458.644 observations\n",
    "* test.csv - the testing set, which contains 625.134 observations\n",
    "\n",
    "The training set contains eleven features:\n",
    "\n",
    "* `id` - a unique identifier for each trip\n",
    "* `vendor_id` - a code indicating the provider associated with the trip record\n",
    "* `pickup_datetime` - date and time when the meter was engaged\n",
    "* `dropoff_datetime` - date and time when the meter was disengaged\n",
    "* `passenger_count` - the number of passengers in the vehicle (driver entered value)\n",
    "* `pickup_longitude` - the longitude where the meter was engaged\n",
    "* `pickup_latitude` - the latitude where the meter was engaged\n",
    "* `dropoff_longitude` - the longitude where the meter was disengaged\n",
    "* `dropoff_latitude` - the latitude where the meter was disengaged\n",
    "* `store_and_fwd_flag` - This flag indicates whether the trip record was held in vehicle memory before sending to the vendor because the vehicle did not have a connection to the server - Y=store and forward; N=not a store and forward trip\n",
    "* `trip_duration` - duration of the trip in seconds\n",
    "\n",
    "The testing set doesn't have neither the `trip_duration`, target variable, nor the `dropoff_datetime`. So,the model should be trained on the training set, and predict the `trip_duration` for the testing set observations. The predictions should be [submitted to the Kaggle's challenge] for calculating the final score.\n",
    "\n",
    "[submitted to the Kaggle's challenge]:https://www.kaggle.com/c/nyc-taxi-trip-duration/submit\n",
    "\n",
    "The variables `pickup_latitude`, `pickup_longitude`, `dropoff_latitude` and `dropoff_longitude` will be used to calculate the trip distance between the pickup and dropoff locations. Also, they are important and will be analysed because where in NY the each trip starts and ends influences greatly the velocity in which the taxi can travel.\n",
    "\n",
    "The variables `pickup_datetime` are important, and also will be analysed profoundly, because the moment on time in which the trips occur also influences greatly the the taxi velocity.\n",
    "\n",
    "The remaining variables will be analysed in order to conclude about their influence on the target variable.\n",
    "\n",
    "\n",
    "The data sets provided by the Kaggle challenge were made avaiable in [Big Query on Google Cloud Platform], originally published by [NYC Taxi and Limousine Commission (TLC)].\n",
    "\n",
    "[Big Query on Google Cloud Platform]:https://cloud.google.com/bigquery/public-data/nyc-tlc-trips\n",
    "[NYC Taxi and Limousine Commission (TLC)]:https://www1.nyc.gov/site/tlc/about/tlc-trip-record-data.page\n",
    "[data sets]: https://www.kaggle.com/c/nyc-taxi-trip-duration/data"
   ]
  },
  {
   "cell_type": "markdown",
   "metadata": {},
   "source": [
    "# Solution Statement\n",
    "\n",
    "The solution will be provided by a regression method. The optimization will be performed after a preprocessing of the data and through minimization of the root mean square logarithm error (RMSLE), cross validation for detecting over and/or underfitting, and grid-search for fine tunning hyperparameters."
   ]
  },
  {
   "cell_type": "markdown",
   "metadata": {},
   "source": [
    "# Benchmark Result\n",
    "\n",
    "The benchmark result is the [winning] score of the Kaggle's challenge when the winning team submitted the provided testing set. The challenge's metric is the RMSLE, and the winning score is `0.28976`.\n",
    "\n",
    "[winning]: https://www.kaggle.com/c/nyc-taxi-trip-duration/leaderboard"
   ]
  },
  {
   "cell_type": "markdown",
   "metadata": {},
   "source": [
    "# Evaluation Metrics\n",
    "\n",
    "The evaluation metric is the one from the Kaggle's challenge, [RMSLE], in order to make the score comparable to the benchmark result. The metric is quite similar to the [root mean squared error], however, considers the squared difference of the logarithm values of prediction ($\\hat{y}$) and true values($y$).\n",
    "\n",
    "$$\\text{RMSLE}(y,\\hat{y}) = \\sqrt{\\frac{1}{N}\\sum_k{\\text{log}(1+y_k)-\\text{log}(1+\\hat{y}_k)}}$$\n",
    "\n",
    "[root mean squared error]: https://en.wikipedia.org/wiki/Root-mean-square_deviation\n",
    "[RMSLE]: https://www.quora.com/What-is-the-difference-between-an-RMSE-and-RMSLE-logarithmic-error-and-does-a-high-RMSE-imply-low-RMSLE"
   ]
  },
  {
   "cell_type": "markdown",
   "metadata": {},
   "source": [
    "# Project Design\n",
    "\n",
    "The project will be segregated in four major parts: data preprocessing, model selection, benchmark comparison and conclusion.\n",
    "\n",
    "## Data Preprocessing\n",
    "\n",
    "Data preprocessing will be segregated into two sections: Generals and Specifics.\n",
    "\n",
    "### Generals\n",
    "\n",
    "In this section, data quality will be considered and performed.\n",
    "\n",
    "* Are there any missing values?\n",
    "* The features are formatted on a convenient way?\n",
    "* Is there any unnecessary information?\n",
    "\n",
    "Along with that, from the features `pickup_latitude`, `pickup_longitude`, `dropoff_latitude` and `dropoff_longitude`, the feature `distance` will be calculated. \n",
    "\n",
    "### Specifics\n",
    "\n",
    "In this section, the data will be explored statistically and visually, with the objective of understanding the features influences, detecting and dropping outliers and finding transformations that will make the training and prediction better, as rescalling or *one-hot-encoding*, for example. This analysis will be divided in four subsections: Distance anaysis, Geo-localization analysis, Time related analysis and the remaining features analysis. \n",
    "\n",
    "For the analysis, the velocity will be calculated, `distance` over `trip_duration` as the trip duration may depend on traffic, that depends greatly on date and time.\n",
    "\n",
    "\n",
    "## Model Selection\n",
    "\n",
    "This parte will train the models and consider the RMSLE scoring for choosing the best one. As the testing set provided doesn't have the target feature, `trip_duration`, the training set will be splitted into training and testing set for the model selection.\n",
    "\n",
    "\n",
    "### Initial Model Evaluation\n",
    "\n",
    "For the initial model evaluation, a set of different kind regressors will be trained in different data set sizes, using cross validation, in order to verify underfitting and overfitting between regressors. No tunning of hyperparameters will be performed.\n",
    "\n",
    "### Model Tunning\n",
    "\n",
    "The best model from the previous step will have its hyperparameters tunned through gridsearch in order to select the best hyperparameters. \n",
    "\n",
    "### Final Validation\n",
    "\n",
    "Once chosen the best model, it must pass through a set of final validations in order to check its robustness. \n",
    "\n",
    "## Benchmark Comparison\n",
    "\n",
    "Once the model has been selected and trained on the whole provided training set, the predictions over the provided testint set will be submitted to the private [leaderboard] on Kaggle. The result will be comparised with the bechmark, which is `0.28976`.\n",
    "\n",
    "[leaderboard]: https://www.kaggle.com/c/nyc-taxi-trip-duration/leaderboard\n",
    "\n",
    "## Conclusion\n",
    "\n",
    "The last section it is the conclusion with a reflextion about the data, the model and a proposal possible improvements."
   ]
  },
  {
   "cell_type": "code",
   "execution_count": null,
   "metadata": {},
   "outputs": [],
   "source": []
  }
 ],
 "metadata": {
  "kernelspec": {
   "display_name": "Python 3",
   "language": "python",
   "name": "python3"
  },
  "language_info": {
   "codemirror_mode": {
    "name": "ipython",
    "version": 3
   },
   "file_extension": ".py",
   "mimetype": "text/x-python",
   "name": "python",
   "nbconvert_exporter": "python",
   "pygments_lexer": "ipython3",
   "version": "3.7.3"
  }
 },
 "nbformat": 4,
 "nbformat_minor": 2
}
